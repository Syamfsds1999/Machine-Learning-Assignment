{
 "cells": [
  {
   "cell_type": "code",
   "execution_count": 1,
   "id": "65524c1e",
   "metadata": {},
   "outputs": [],
   "source": [
    "# 1. What exactly is a feature? Give an example to illustrate your point ?"
   ]
  },
  {
   "cell_type": "markdown",
   "id": "5dac5c51",
   "metadata": {},
   "source": [
    "Ans: Features are the basic building blocks of datasets. The quality of the features in your dataset has a major impact on the quality of the insights you will gain when you use that dataset for machine learning.\n",
    "\n",
    "Additionally, different business problems within the same industry do not necessarily require the same features, which is why it is important to have a strong understanding of the business goals of your data science project."
   ]
  },
  {
   "cell_type": "code",
   "execution_count": 2,
   "id": "545ff408",
   "metadata": {},
   "outputs": [],
   "source": [
    "#2. What are the various circumstances in which feature construction is required ?"
   ]
  },
  {
   "cell_type": "markdown",
   "id": "64843786",
   "metadata": {},
   "source": [
    "Ans: The features in your data will directly influence the predictive models you use and the results you can achieve. Your results are dependent on many inter-dependent properties. You need great features that describe the structures inherent in your data. Better features means flexibility."
   ]
  },
  {
   "cell_type": "code",
   "execution_count": 3,
   "id": "f3a5139e",
   "metadata": {},
   "outputs": [],
   "source": [
    "#3. Describe how nominal variables are encoded ?"
   ]
  },
  {
   "cell_type": "markdown",
   "id": "8ce75855",
   "metadata": {},
   "source": [
    "Ans: Nominal data is made of discrete values with no numerical relationship between the different categories Ã¢Â€Â” mean and median are meaningless. Animal species is one example. For example, pig is not higher than bird and lower than fish."
   ]
  },
  {
   "cell_type": "code",
   "execution_count": 4,
   "id": "dca599d4",
   "metadata": {},
   "outputs": [],
   "source": [
    "# 4. Describe how numeric features are converted to categorical features ?"
   ]
  },
  {
   "cell_type": "markdown",
   "id": "70e678e1",
   "metadata": {},
   "source": [
    "Ans: Converting categorical features into numeric features using domain knowledge. For example, we are given a list of countries and say we know the distance to these countries from India then we can replace it with distance from India. So, every country can be represented as its distance from India.\n"
   ]
  },
  {
   "cell_type": "code",
   "execution_count": 5,
   "id": "d8f76274",
   "metadata": {},
   "outputs": [],
   "source": [
    "#5. Describe the feature selection wrapper approach. State the advantages and disadvantages of this approach ?"
   ]
  },
  {
   "cell_type": "markdown",
   "id": "d29229e9",
   "metadata": {},
   "source": [
    "Ans: Wrapper methods measure the Ã¢Â€ÂœusefulnessÃ¢Â€Â of features based on the classifier performance. In contrast, the filter methods pick up the intrinsic properties of the features (i.e., the Ã¢Â€ÂœrelevanceÃ¢Â€Â of the features) measured via univariate statistics instead of cross-validation performance.\n",
    "\n",
    "The wrapper classification algorithms with joint dimensionality reduction and classification can also be used but these methods have high computation cost, lower discriminative power. Moreover, these methods depend on the efficient selection of classifiers for obtaining high accuracy"
   ]
  },
  {
   "cell_type": "code",
   "execution_count": 6,
   "id": "32ed2c2a",
   "metadata": {},
   "outputs": [],
   "source": [
    "# 6. When is a feature considered irrelevant? What can be said to quantify it ?"
   ]
  },
  {
   "cell_type": "markdown",
   "id": "357b9834",
   "metadata": {},
   "source": [
    "Irrelevant features can never contribute to prediction accuracy, by definition. Also to quantify it we need to first check the list of features, There are three types of feature selection:\n",
    "\n",
    "Wrapper methods (forward, backward, and stepwise selection)\n",
    "\n",
    "Filter methods (ANOVA, Pearson correlation, variance thresholding)\n",
    "\n",
    "Embedded methods (Lasso, Ridge, Decision Tree)."
   ]
  },
  {
   "cell_type": "code",
   "execution_count": 7,
   "id": "6cc0a6d6",
   "metadata": {},
   "outputs": [],
   "source": [
    "#7. When is a function considered redundant? What criteria are used to identify features that could be redundant ?"
   ]
  },
  {
   "cell_type": "markdown",
   "id": "f0bd0afa",
   "metadata": {},
   "source": [
    "Ans: If two features {X1, X2} are highly correlated, then the two features become redundant features since they have same information in terms of correlation measure. In other words, the correlation measure provides statistical association between any given a pair of features.\n",
    "\n",
    "Minimum redundancy feature selection is an algorithm frequently used in a method to accurately identify characteristics of genes and phenotypes"
   ]
  },
  {
   "cell_type": "code",
   "execution_count": 8,
   "id": "926e049e",
   "metadata": {},
   "outputs": [],
   "source": [
    "# 8. What are the various distance measurements used to determine feature similarity ?"
   ]
  },
  {
   "cell_type": "markdown",
   "id": "b0010b5a",
   "metadata": {},
   "source": [
    "Ans: Four of the most commonly used distance measures in machine learning are as follows:\n",
    "\n",
    "Hamming Distance.\n",
    "\n",
    "Euclidean Distance.\n",
    "\n",
    "Manhattan Distance."
   ]
  },
  {
   "cell_type": "code",
   "execution_count": 9,
   "id": "ace542bb",
   "metadata": {},
   "outputs": [],
   "source": [
    "# 9. State difference between Euclidean and Manhattan distances ?"
   ]
  },
  {
   "cell_type": "markdown",
   "id": "82ed2d72",
   "metadata": {},
   "source": [
    "Ans: Euclidean & Hamming distances are used to measure similarity or dissimilarity between two sequences. Euclidean distance is extensively applied in analysis of convolutional codes and Trellis codes.\n",
    "\n",
    "Hamming distance is frequently encountered in the analysis of block codes."
   ]
  },
  {
   "cell_type": "code",
   "execution_count": 10,
   "id": "a83eea4e",
   "metadata": {},
   "outputs": [],
   "source": [
    "# 10. Distinguish between feature transformation and feature selection ?"
   ]
  },
  {
   "cell_type": "markdown",
   "id": "e58c7ba1",
   "metadata": {},
   "source": [
    "Ans: Feature selection is for filtering irrelevant or redundant features from your dataset. The key difference between feature selection and extraction is that feature selection keeps a subset of the original features while feature extraction creates brand new ones."
   ]
  },
  {
   "cell_type": "code",
   "execution_count": null,
   "id": "7822171f",
   "metadata": {},
   "outputs": [],
   "source": []
  }
 ],
 "metadata": {
  "kernelspec": {
   "display_name": "Python 3 (ipykernel)",
   "language": "python",
   "name": "python3"
  },
  "language_info": {
   "codemirror_mode": {
    "name": "ipython",
    "version": 3
   },
   "file_extension": ".py",
   "mimetype": "text/x-python",
   "name": "python",
   "nbconvert_exporter": "python",
   "pygments_lexer": "ipython3",
   "version": "3.9.7"
  }
 },
 "nbformat": 4,
 "nbformat_minor": 5
}
