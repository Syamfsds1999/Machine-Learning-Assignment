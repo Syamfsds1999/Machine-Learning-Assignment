{
 "cells": [
  {
   "cell_type": "code",
   "execution_count": 1,
   "id": "16829f48",
   "metadata": {},
   "outputs": [],
   "source": [
    "# 1. What are the key reasons for reducing the dimensionality of a dataset? What are the major disadvantages "
   ]
  },
  {
   "cell_type": "markdown",
   "id": "ccfba085",
   "metadata": {},
   "source": [
    "Ans: Disadvantages of Dimensionality Reduction:\n",
    "\n",
    "It may lead to some amount of data loss.\n",
    "\n",
    "PCA tends to find linear correlations between variables, which is sometimes undesirable.\n",
    "\n",
    "PCA fails in cases where mean and covariance are not enough to define datasets."
   ]
  },
  {
   "cell_type": "code",
   "execution_count": 2,
   "id": "2fffbf85",
   "metadata": {},
   "outputs": [],
   "source": [
    "# 2. What is the dimensionality curse ?"
   ]
  },
  {
   "cell_type": "markdown",
   "id": "89b3af4b",
   "metadata": {},
   "source": [
    "Ans: The curse of dimensionality basically means that the error increases with the increase in the number of features. It refers to the fact that algorithms are harder to design in high dimensions and often have a running time exponential in the dimensions."
   ]
  },
  {
   "cell_type": "code",
   "execution_count": 3,
   "id": "e393c7bf",
   "metadata": {},
   "outputs": [],
   "source": [
    "# 3. Tell if its possible to reverse the process of reducing the dimensionality of a dataset? If so, how can you go about doing it? If not, what is the reason ?"
   ]
  },
  {
   "cell_type": "markdown",
   "id": "3691ee24",
   "metadata": {},
   "source": [
    "Ans: No, dimensionality reduction is not reversible in general."
   ]
  },
  {
   "cell_type": "code",
   "execution_count": 4,
   "id": "7d3010d1",
   "metadata": {},
   "outputs": [],
   "source": [
    "# 4. Can PCA be utilized to reduce the dimensionality of a nonlinear dataset with a lot of variables ?"
   ]
  },
  {
   "cell_type": "markdown",
   "id": "8cb2651c",
   "metadata": {},
   "source": [
    "Ans: Well it Depends on dataset. If it is comprised of points that are perfectly aligned, PCA can reduce the dataset down to 1 dimension and preserve 95% of the variance."
   ]
  },
  {
   "cell_type": "code",
   "execution_count": 5,
   "id": "877de7aa",
   "metadata": {},
   "outputs": [],
   "source": [
    "# 5. Assume you're running PCA on a 1,000-dimensional dataset with a 95 percent explained variance ratio. What is the number of dimensions that the resulting dataset would have ?"
   ]
  },
  {
   "cell_type": "markdown",
   "id": "554d3269",
   "metadata": {},
   "source": [
    "Ans: If I perform PCA on a 1,000-dimensional dataset, setting the explained variance ratio to 95%. In this case roughly 950 dimensions are required to preserve 95% of the variance. So the answer is, it depends on the dataset, and it could be any number between 1 and 950."
   ]
  },
  {
   "cell_type": "code",
   "execution_count": 6,
   "id": "f2d3d430",
   "metadata": {},
   "outputs": [],
   "source": [
    "# 6. Will you use vanilla PCA, incremental PCA, randomized PCA, or kernel PCA in which situations ?"
   ]
  },
  {
   "cell_type": "markdown",
   "id": "a1fdcb3b",
   "metadata": {},
   "source": [
    "Ans: The following are the scenarios where the following are used:\n",
    "\n",
    "Vanilla PCA: the dataset fit in memory\n",
    "    \n",
    "Incremental PCA: larget dataset that don't fit in memory, online taks\n",
    "    \n",
    "Randomized PCA: considerably reduce dimensionality and the dataset fit the memory.\n",
    "    \n",
    "kernel PCA: used for nonlinear PCA"
   ]
  },
  {
   "cell_type": "code",
   "execution_count": 7,
   "id": "d3949574",
   "metadata": {},
   "outputs": [],
   "source": [
    "# 7. How do you assess a dimensionality reduction algorithm's success on your dataset ?"
   ]
  },
  {
   "cell_type": "markdown",
   "id": "6469ffef",
   "metadata": {},
   "source": [
    "Ans: By doing PCA, it is a good choice for dimensionality reduction and visualization for datasets with a large number of variables."
   ]
  },
  {
   "cell_type": "code",
   "execution_count": 8,
   "id": "eeb5e028",
   "metadata": {},
   "outputs": [],
   "source": [
    "# 8. Is it logical to use two different dimensionality reduction algorithms in a chain ?"
   ]
  },
  {
   "cell_type": "markdown",
   "id": "2da6be99",
   "metadata": {},
   "source": [
    "Ans: Indeed, it often make any sense to chain two different dimensionality reduction algorithms. A common example is using PCA to quickly get rid of a large number of useless dimensions, then applying another much slower dimensionality reduction algorithm, such as LLE."
   ]
  },
  {
   "cell_type": "code",
   "execution_count": null,
   "id": "7b159204",
   "metadata": {},
   "outputs": [],
   "source": []
  }
 ],
 "metadata": {
  "kernelspec": {
   "display_name": "Python 3 (ipykernel)",
   "language": "python",
   "name": "python3"
  },
  "language_info": {
   "codemirror_mode": {
    "name": "ipython",
    "version": 3
   },
   "file_extension": ".py",
   "mimetype": "text/x-python",
   "name": "python",
   "nbconvert_exporter": "python",
   "pygments_lexer": "ipython3",
   "version": "3.9.7"
  }
 },
 "nbformat": 4,
 "nbformat_minor": 5
}
